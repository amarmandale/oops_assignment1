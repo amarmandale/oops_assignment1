{
 "cells": [
  {
   "cell_type": "markdown",
   "id": "dd1fa158-fff4-4e46-a785-3f8a07f2b35a",
   "metadata": {},
   "source": [
    "Q1. Explain Class and Object with respect to Object-Oriented Programming. Give a suitable example."
   ]
  },
  {
   "cell_type": "markdown",
   "id": "f0fd3c0e-8295-4191-b0ec-4d60cda282ec",
   "metadata": {},
   "source": [
    "class is class is a blueprint or template that defines the structure and behavior of objects. \n",
    "\n",
    "It serves as a blueprint for creating instances of objects,  which are specific occurrences or representations of the class.\n",
    "\n",
    "An object, on the other hand, is a specific instance of a class that encapsulates data and the operations or methods that can be performed on that data."
   ]
  },
  {
   "cell_type": "code",
   "execution_count": 16,
   "id": "d5837dbc-98f5-4e9d-9cd6-d91d7e6961be",
   "metadata": {},
   "outputs": [],
   "source": [
    "class pwskills:        # pwskills is a class\n",
    "    def student_details(self, name, mail_id, phone_no):\n",
    "        print(name, mail_id, phone_no)"
   ]
  },
  {
   "cell_type": "code",
   "execution_count": 17,
   "id": "b237bf4f-6afc-4471-aa14-84d3113f2b8a",
   "metadata": {},
   "outputs": [],
   "source": [
    "obj_pw= pwskills() ## it is object off pwskills class"
   ]
  },
  {
   "cell_type": "code",
   "execution_count": 18,
   "id": "715ad2d3-e111-47bb-ae16-b0560938cf56",
   "metadata": {},
   "outputs": [
    {
     "name": "stdout",
     "output_type": "stream",
     "text": [
      "amar amar@gmail.com 9607559393\n"
     ]
    }
   ],
   "source": [
    "obj_pw.student_details('amar','amar@gmail.com', 9607559393)"
   ]
  },
  {
   "cell_type": "markdown",
   "id": "a00ff5f1-5720-480b-9792-1e257d5844de",
   "metadata": {},
   "source": [
    "Q2. Name the four pillars of OOPs.\n"
   ]
  },
  {
   "cell_type": "markdown",
   "id": "3260e5df-ae93-4d25-a7dd-98f25a108a5c",
   "metadata": {},
   "source": [
    "1) Polymorphism: Polymorphism refers to the ability of objects of different classes to respond to the same message or method call in different ways. It allows objects to be treated as instances of their own class or as instances of their superclass. Polymorphism enables code flexibility, extensibility, and the implementation of abstract behaviors.\n",
    "\n",
    "2) Encapsulation: Encapsulation is the concept of bundling data and the methods that operate on that data within a single unit, called an object. It hides the internal details of an object and provides a public interface through which other objects can interact with it. Encapsulation helps in achieving data abstraction, information hiding, and code organization.\n",
    "\n",
    "3) Inheritance: Inheritance allows the creation of new classes (derived classes) based on existing classes (base or parent classes). The derived classes inherit the attributes and methods of the base class, which can be extended or overridden as needed. Inheritance promotes code reuse, modularity, and the hierarchical organization of classes.\n",
    "\n",
    "4) Abstraction: Abstraction involves simplifying complex systems by representing essential features while hiding unnecessary details. It focuses on capturing the relevant attributes and behaviors of objects, ignoring the implementation specifics. Abstraction helps in managing complexity, improving code readability, and creating reusable models."
   ]
  },
  {
   "cell_type": "markdown",
   "id": "37352033-caaf-4ec7-9ade-b1da6aa2c4f8",
   "metadata": {},
   "source": [
    "Q3. Explain why the __init__() function is used. Give a suitable example.\n"
   ]
  },
  {
   "cell_type": "markdown",
   "id": "052f251a-f5f7-4f8f-8f1f-73d6c1c32b19",
   "metadata": {},
   "source": [
    "The __init__() function, also known as the constructor, is used to initialize the attributes or properties of an object when it is created. \n",
    "It is a special method that is automatically called upon object instantiation.\n",
    "\n",
    "1. Attribute Initialization: The __init__() function allows you to define and initialize the attributes of an object with specific values. It provides a convenient way to set the initial state of an object. By passing arguments to the __init__() method, you can assign values to the object's attributes based on the provided arguments.\n",
    "\n",
    "2. Encapsulation and Data Binding: The __init__() function is used to encapsulate the initialization logic within the class. It ensures that the attributes of an object are properly initialized and bound to the object instance. This helps in achieving data integrity and prevents accidental modification of attributes.\n",
    "\n",
    "3. Object Customization: The __init__() function allows you to customize the creation process of objects. You can perform additional operations or computations inside the constructor to set up the object based on specific requirements. This customization can include initializing derived attributes, performing validations, or invoking other methods to prepare the object for use."
   ]
  },
  {
   "cell_type": "code",
   "execution_count": 30,
   "id": "60ecf522-d83c-443d-84c5-9b4c55b839c2",
   "metadata": {},
   "outputs": [],
   "source": [
    "class maths:\n",
    "    def __init__(self, length):\n",
    "        self.length= length\n",
    "        \n",
    "    def area_square(self):\n",
    "        print(\"area of square is\",self.length*self.length)"
   ]
  },
  {
   "cell_type": "code",
   "execution_count": 31,
   "id": "abc253ae-d8d5-4850-bf0d-33a09b9b0050",
   "metadata": {},
   "outputs": [],
   "source": [
    "obj_maths= maths(13)"
   ]
  },
  {
   "cell_type": "code",
   "execution_count": 32,
   "id": "7bbe94e3-5b08-4958-9965-0f75e9ffab50",
   "metadata": {},
   "outputs": [
    {
     "name": "stdout",
     "output_type": "stream",
     "text": [
      "area of square is 169\n"
     ]
    }
   ],
   "source": [
    "obj_maths.area_square()"
   ]
  },
  {
   "cell_type": "markdown",
   "id": "bc9d9c74-169c-414a-acf3-a1256fc1c588",
   "metadata": {},
   "source": [
    "Q4. Why self is used in OOPs?\n"
   ]
  },
  {
   "cell_type": "markdown",
   "id": "6c4ab118-3368-45b9-80fe-c6cbb38e99ce",
   "metadata": {},
   "source": [
    "The self parameter is used in object-oriented programming (OOP) to reference the instance of a class within its own methods.\n",
    "It is a convention in Python to name the first parameter of instance methods as self, although it is not a language requirement."
   ]
  },
  {
   "cell_type": "markdown",
   "id": "63a254ed-09ff-400c-8f31-86a4c27543db",
   "metadata": {},
   "source": [
    "Q5. What is inheritance? Give an example for each type of inheritance."
   ]
  },
  {
   "cell_type": "markdown",
   "id": "df8dd3ad-f609-4d2b-8c4e-5d244b58610d",
   "metadata": {},
   "source": [
    "Inheritance is a fundamental concept in object-oriented programming (OOP) that allows a class to inherit attributes and methods from another class. The class that is being inherited from is called the base class, parent class, or superclass, while the class that inherits is called the derived class, child class, or subclass. Inheritance promotes code reuse, modularity, and the hierarchical organization of classes.\n",
    "\n"
   ]
  },
  {
   "cell_type": "markdown",
   "id": "143e25a3-e24e-4fba-848d-a0cae8e21029",
   "metadata": {},
   "source": [
    "1. Single Inheritance:\n",
    "Single inheritance involves inheriting from a single base class. The derived class inherits all the attributes and methods of the base class."
   ]
  },
  {
   "cell_type": "code",
   "execution_count": 33,
   "id": "3a60f900-1508-4486-b3f0-a501ff006129",
   "metadata": {},
   "outputs": [],
   "source": [
    "class maths:\n",
    "    def circle(self):\n",
    "        print('this is circle')"
   ]
  },
  {
   "cell_type": "code",
   "execution_count": 35,
   "id": "b54ad91b-c049-4147-b75b-4c17e4cd2770",
   "metadata": {},
   "outputs": [],
   "source": [
    "class geometry(maths):\n",
    "    pass"
   ]
  },
  {
   "cell_type": "code",
   "execution_count": 36,
   "id": "099cb992-6dd3-4dc8-b6f4-b09eec8ff825",
   "metadata": {},
   "outputs": [],
   "source": [
    "obj= geometry()"
   ]
  },
  {
   "cell_type": "code",
   "execution_count": 38,
   "id": "00630921-7708-43a8-b661-2eab7d9a7cec",
   "metadata": {},
   "outputs": [
    {
     "name": "stdout",
     "output_type": "stream",
     "text": [
      "this is circle\n"
     ]
    }
   ],
   "source": [
    "obj.circle()"
   ]
  },
  {
   "cell_type": "markdown",
   "id": "873bf16a-7807-4161-8601-3adb9af8aab6",
   "metadata": {},
   "source": [
    "2. Multiple Inheritance:\n",
    "Multiple inheritance involves inheriting from multiple base classes. The derived class inherits attributes and methods from all the base classes.\n",
    "\n"
   ]
  },
  {
   "cell_type": "code",
   "execution_count": 39,
   "id": "6fc483f3-1e73-429d-b15d-581cab1a49ba",
   "metadata": {},
   "outputs": [],
   "source": [
    "class maths:\n",
    "    def triange(self):\n",
    "        print('this is triangle')"
   ]
  },
  {
   "cell_type": "code",
   "execution_count": 40,
   "id": "a02a9408-3cff-4225-bec1-59ae17ebc372",
   "metadata": {},
   "outputs": [],
   "source": [
    "class biology:\n",
    "    def brain(self):\n",
    "        print('this is brain')"
   ]
  },
  {
   "cell_type": "code",
   "execution_count": 43,
   "id": "8fffcd8c-83d4-4c9f-94fe-f8708a8c4102",
   "metadata": {},
   "outputs": [],
   "source": [
    "class bio_math(maths, biology):\n",
    "    pass"
   ]
  },
  {
   "cell_type": "code",
   "execution_count": 44,
   "id": "3aa1e69f-b359-45c4-aaa7-bed91f9d51b5",
   "metadata": {},
   "outputs": [],
   "source": [
    "obj_bio_math= bio_math()"
   ]
  },
  {
   "cell_type": "code",
   "execution_count": 46,
   "id": "c061bab8-132b-46a0-a1b5-f538104e18a6",
   "metadata": {},
   "outputs": [
    {
     "name": "stdout",
     "output_type": "stream",
     "text": [
      "this is brain\n"
     ]
    }
   ],
   "source": [
    "obj_bio_math.brain()"
   ]
  },
  {
   "cell_type": "code",
   "execution_count": 47,
   "id": "d4139cdc-6a8c-4e32-b5f0-c9c716c42197",
   "metadata": {},
   "outputs": [
    {
     "name": "stdout",
     "output_type": "stream",
     "text": [
      "this is triangle\n"
     ]
    }
   ],
   "source": [
    "obj_bio_math.triange()"
   ]
  },
  {
   "cell_type": "markdown",
   "id": "d5b40e5a-7045-4fa7-a2b9-5ea1889f99d6",
   "metadata": {},
   "source": [
    "3. Multilevel Inheritance:\n",
    "Multilevel inheritance involves inheriting from a derived class, creating a hierarchy of classes. Each class inherits attributes and methods from its immediate parent class."
   ]
  },
  {
   "cell_type": "code",
   "execution_count": 50,
   "id": "1c204ec2-2818-4727-84a0-fb697890d3c1",
   "metadata": {},
   "outputs": [],
   "source": [
    "class english:\n",
    "    def grammer(self):\n",
    "        print('this is grammer')"
   ]
  },
  {
   "cell_type": "code",
   "execution_count": 58,
   "id": "816daf14-b9c7-4041-af21-5b2cb5e1bed3",
   "metadata": {},
   "outputs": [],
   "source": [
    "class marathi(english):\n",
    "    def vyakaran(self):\n",
    "        print('this is vyakaran')"
   ]
  },
  {
   "cell_type": "code",
   "execution_count": 59,
   "id": "325f05a2-3dae-4b93-9898-e2f84b0f1fc0",
   "metadata": {},
   "outputs": [],
   "source": [
    "class histry(marathi):\n",
    "    pass\n",
    "    "
   ]
  },
  {
   "cell_type": "code",
   "execution_count": 60,
   "id": "a08df22b-f080-4bb3-8189-403d2edb71a8",
   "metadata": {},
   "outputs": [],
   "source": [
    "obj_histry= histry()"
   ]
  },
  {
   "cell_type": "code",
   "execution_count": 61,
   "id": "35fa4cce-ffa8-4099-821e-e8557726c4f4",
   "metadata": {},
   "outputs": [
    {
     "name": "stdout",
     "output_type": "stream",
     "text": [
      "this is grammer\n"
     ]
    }
   ],
   "source": [
    "obj_histry.grammer()"
   ]
  },
  {
   "cell_type": "code",
   "execution_count": 62,
   "id": "966c2baa-4908-4019-8ee6-f65938ef7f62",
   "metadata": {},
   "outputs": [
    {
     "name": "stdout",
     "output_type": "stream",
     "text": [
      "this is vyakaran\n"
     ]
    }
   ],
   "source": [
    "obj_histry.vyakaran()"
   ]
  },
  {
   "cell_type": "markdown",
   "id": "998c6e46-e707-4154-af4f-239ec39ab4fb",
   "metadata": {},
   "source": [
    "4. Hierarchical Inheritance:\n",
    "Hierarchical inheritance involves multiple derived classes inheriting from a single base class. Each derived class inherits attributes and methods from the base class."
   ]
  },
  {
   "cell_type": "code",
   "execution_count": 63,
   "id": "4ac6f63f-6e03-4f1b-9b4c-b29bd1c7b579",
   "metadata": {},
   "outputs": [],
   "source": [
    "class maths1:\n",
    "    def derivativ(self):\n",
    "        print('this is derivative')"
   ]
  },
  {
   "cell_type": "code",
   "execution_count": 64,
   "id": "71f56e2a-2957-4282-9cb4-687d921d55c5",
   "metadata": {},
   "outputs": [],
   "source": [
    "class maths2(maths1): \n",
    "    pass"
   ]
  },
  {
   "cell_type": "code",
   "execution_count": 65,
   "id": "05db2d89-dcc9-4599-9787-40d35d5fe769",
   "metadata": {},
   "outputs": [],
   "source": [
    "class maths3(maths1):\n",
    "    pass"
   ]
  },
  {
   "cell_type": "code",
   "execution_count": 66,
   "id": "2086bcef-8421-4109-8348-c309a92fba2d",
   "metadata": {},
   "outputs": [],
   "source": [
    "obj_math2= maths2()"
   ]
  },
  {
   "cell_type": "code",
   "execution_count": 67,
   "id": "ae26a2d8-301d-4526-8a6f-d5b1eed4c00b",
   "metadata": {},
   "outputs": [],
   "source": [
    "obj_math3= maths3()"
   ]
  },
  {
   "cell_type": "code",
   "execution_count": 68,
   "id": "52af1461-e2b1-48bc-bba2-4108bf803079",
   "metadata": {},
   "outputs": [
    {
     "name": "stdout",
     "output_type": "stream",
     "text": [
      "this is derivative\n"
     ]
    }
   ],
   "source": [
    "obj_math2.derivativ()"
   ]
  },
  {
   "cell_type": "code",
   "execution_count": 69,
   "id": "a73428c2-da2c-424a-a7f6-1f4bec26decc",
   "metadata": {},
   "outputs": [
    {
     "name": "stdout",
     "output_type": "stream",
     "text": [
      "this is derivative\n"
     ]
    }
   ],
   "source": [
    "obj_math3.derivativ()"
   ]
  },
  {
   "cell_type": "code",
   "execution_count": null,
   "id": "c91cd21e-5ff2-4025-a846-b8faa77f2476",
   "metadata": {},
   "outputs": [],
   "source": []
  }
 ],
 "metadata": {
  "kernelspec": {
   "display_name": "Python 3 (ipykernel)",
   "language": "python",
   "name": "python3"
  },
  "language_info": {
   "codemirror_mode": {
    "name": "ipython",
    "version": 3
   },
   "file_extension": ".py",
   "mimetype": "text/x-python",
   "name": "python",
   "nbconvert_exporter": "python",
   "pygments_lexer": "ipython3",
   "version": "3.10.8"
  }
 },
 "nbformat": 4,
 "nbformat_minor": 5
}
